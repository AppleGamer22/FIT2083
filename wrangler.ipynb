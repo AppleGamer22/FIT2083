{
 "metadata": {
  "language_info": {
   "codemirror_mode": {
    "name": "ipython",
    "version": 3
   },
   "file_extension": ".py",
   "mimetype": "text/x-python",
   "name": "python",
   "nbconvert_exporter": "python",
   "pygments_lexer": "ipython3",
   "version": "3.9.4"
  },
  "orig_nbformat": 2,
  "kernelspec": {
   "name": "python3",
   "language": "python",
   "display_name": "Python 3"
  },
  "metadata": {
   "interpreter": {
    "hash": "e7370f93d1d0cde622a1f8e1c04877d8463912d04d973331ad4851f04de6915a"
   }
  }
 },
 "nbformat": 4,
 "nbformat_minor": 2,
 "cells": [
  {
   "source": [
    "# CVE Data Wrangler\n",
    "## Import Libraries"
   ],
   "cell_type": "markdown",
   "metadata": {}
  },
  {
   "cell_type": "code",
   "execution_count": 118,
   "metadata": {},
   "outputs": [],
   "source": [
    "from pandas import read_csv, options, DataFrame\n",
    "from matplotlib import pyplot as plt, axes"
   ]
  },
  {
   "cell_type": "markdown",
   "source": [
    "## Wrangling"
   ],
   "metadata": {
    "collapsed": false,
    "pycharm": {
     "name": "#%% md\n"
    }
   }
  },
  {
   "cell_type": "code",
   "execution_count": 119,
   "outputs": [
    {
     "data": {
      "text/plain": "    Year  Linux  Windows\n0   1999     89      137\n1   2000     98       61\n2   2001     68       87\n3   2002     48      126\n4   2003     61       84\n5   2004    116      104\n6   2005    189      148\n7   2006    175      220\n8   2007    154      289\n9   2008    156      208\n10  2009    175      241\n11  2010    235      447\n12  2011    217      357\n13  2012    127      222\n14  2013    223      309\n15  2014    236      250\n16  2015    231      745\n17  2016    293      847\n18  2017    579     1032\n19  2018    435      772\n20  2019    387      839\n21  2020    234     1147\n22  2021     86      259",
      "text/html": "<div>\n<style scoped>\n    .dataframe tbody tr th:only-of-type {\n        vertical-align: middle;\n    }\n\n    .dataframe tbody tr th {\n        vertical-align: top;\n    }\n\n    .dataframe thead th {\n        text-align: right;\n    }\n</style>\n<table border=\"1\" class=\"dataframe\">\n  <thead>\n    <tr style=\"text-align: right;\">\n      <th></th>\n      <th>Year</th>\n      <th>Linux</th>\n      <th>Windows</th>\n    </tr>\n  </thead>\n  <tbody>\n    <tr>\n      <th>0</th>\n      <td>1999</td>\n      <td>89</td>\n      <td>137</td>\n    </tr>\n    <tr>\n      <th>1</th>\n      <td>2000</td>\n      <td>98</td>\n      <td>61</td>\n    </tr>\n    <tr>\n      <th>2</th>\n      <td>2001</td>\n      <td>68</td>\n      <td>87</td>\n    </tr>\n    <tr>\n      <th>3</th>\n      <td>2002</td>\n      <td>48</td>\n      <td>126</td>\n    </tr>\n    <tr>\n      <th>4</th>\n      <td>2003</td>\n      <td>61</td>\n      <td>84</td>\n    </tr>\n    <tr>\n      <th>5</th>\n      <td>2004</td>\n      <td>116</td>\n      <td>104</td>\n    </tr>\n    <tr>\n      <th>6</th>\n      <td>2005</td>\n      <td>189</td>\n      <td>148</td>\n    </tr>\n    <tr>\n      <th>7</th>\n      <td>2006</td>\n      <td>175</td>\n      <td>220</td>\n    </tr>\n    <tr>\n      <th>8</th>\n      <td>2007</td>\n      <td>154</td>\n      <td>289</td>\n    </tr>\n    <tr>\n      <th>9</th>\n      <td>2008</td>\n      <td>156</td>\n      <td>208</td>\n    </tr>\n    <tr>\n      <th>10</th>\n      <td>2009</td>\n      <td>175</td>\n      <td>241</td>\n    </tr>\n    <tr>\n      <th>11</th>\n      <td>2010</td>\n      <td>235</td>\n      <td>447</td>\n    </tr>\n    <tr>\n      <th>12</th>\n      <td>2011</td>\n      <td>217</td>\n      <td>357</td>\n    </tr>\n    <tr>\n      <th>13</th>\n      <td>2012</td>\n      <td>127</td>\n      <td>222</td>\n    </tr>\n    <tr>\n      <th>14</th>\n      <td>2013</td>\n      <td>223</td>\n      <td>309</td>\n    </tr>\n    <tr>\n      <th>15</th>\n      <td>2014</td>\n      <td>236</td>\n      <td>250</td>\n    </tr>\n    <tr>\n      <th>16</th>\n      <td>2015</td>\n      <td>231</td>\n      <td>745</td>\n    </tr>\n    <tr>\n      <th>17</th>\n      <td>2016</td>\n      <td>293</td>\n      <td>847</td>\n    </tr>\n    <tr>\n      <th>18</th>\n      <td>2017</td>\n      <td>579</td>\n      <td>1032</td>\n    </tr>\n    <tr>\n      <th>19</th>\n      <td>2018</td>\n      <td>435</td>\n      <td>772</td>\n    </tr>\n    <tr>\n      <th>20</th>\n      <td>2019</td>\n      <td>387</td>\n      <td>839</td>\n    </tr>\n    <tr>\n      <th>21</th>\n      <td>2020</td>\n      <td>234</td>\n      <td>1147</td>\n    </tr>\n    <tr>\n      <th>22</th>\n      <td>2021</td>\n      <td>86</td>\n      <td>259</td>\n    </tr>\n  </tbody>\n</table>\n</div>"
     },
     "execution_count": 119,
     "metadata": {},
     "output_type": "execute_result"
    }
   ],
   "source": [
    "options.mode.chained_assignment = None\n",
    "\n",
    "cve_raw = read_csv(\"./CVE_raw.csv\")\n",
    "cve_filtered = cve_raw[cve_raw[\"Description\"].str.contains(\"linux|windows\", case = False)]\n",
    "cve_filtered[\"Year\"] = cve_filtered[\"Name\"].str.slice(4, 8)\n",
    "linux_mask = cve_raw[\"Description\"].str.contains(\"linux\", case = False)\n",
    "windows_mask = cve_raw[\"Description\"].str.contains(\"windows\", case = False)\n",
    "cve_filtered.loc[linux_mask, \"OS\"] = \"linux\"\n",
    "cve_filtered.loc[windows_mask, \"OS\"] = \"windows\"\n",
    "years = sorted(cve_filtered[\"Year\"].unique())\n",
    "count_linux = []\n",
    "count_windows = []\n",
    "for year in years:\n",
    "    for os in [\"linux\", \"windows\"]:\n",
    "        f = (cve_filtered[\"OS\"] == os) & (cve_filtered[\"Year\"] == year)\n",
    "        count = cve_filtered[f].count()[\"Year\"]\n",
    "        if os == \"linux\":\n",
    "            count_linux.append(count)\n",
    "        elif os == \"windows\":\n",
    "            count_windows.append(count)\n",
    "os_year = DataFrame({\"Year\": years, \"Linux\": count_linux, \"Windows\": count_windows})\n",
    "os_year"
   ],
   "metadata": {
    "collapsed": false,
    "pycharm": {
     "name": "#%%\n"
    }
   }
  },
  {
   "cell_type": "markdown",
   "source": [
    "## Summary"
   ],
   "metadata": {
    "collapsed": false,
    "pycharm": {
     "name": "#%% md\n"
    }
   }
  },
  {
   "cell_type": "code",
   "execution_count": 120,
   "outputs": [
    {
     "data": {
      "text/plain": "            Linux      Windows\ncount   23.000000    23.000000\nmean   200.521739   388.304348\nstd    128.153271   330.674714\nmin     48.000000    61.000000\n25%    107.000000   142.500000\n50%    175.000000   250.000000\n75%    234.500000   596.000000\nmax    579.000000  1147.000000",
      "text/html": "<div>\n<style scoped>\n    .dataframe tbody tr th:only-of-type {\n        vertical-align: middle;\n    }\n\n    .dataframe tbody tr th {\n        vertical-align: top;\n    }\n\n    .dataframe thead th {\n        text-align: right;\n    }\n</style>\n<table border=\"1\" class=\"dataframe\">\n  <thead>\n    <tr style=\"text-align: right;\">\n      <th></th>\n      <th>Linux</th>\n      <th>Windows</th>\n    </tr>\n  </thead>\n  <tbody>\n    <tr>\n      <th>count</th>\n      <td>23.000000</td>\n      <td>23.000000</td>\n    </tr>\n    <tr>\n      <th>mean</th>\n      <td>200.521739</td>\n      <td>388.304348</td>\n    </tr>\n    <tr>\n      <th>std</th>\n      <td>128.153271</td>\n      <td>330.674714</td>\n    </tr>\n    <tr>\n      <th>min</th>\n      <td>48.000000</td>\n      <td>61.000000</td>\n    </tr>\n    <tr>\n      <th>25%</th>\n      <td>107.000000</td>\n      <td>142.500000</td>\n    </tr>\n    <tr>\n      <th>50%</th>\n      <td>175.000000</td>\n      <td>250.000000</td>\n    </tr>\n    <tr>\n      <th>75%</th>\n      <td>234.500000</td>\n      <td>596.000000</td>\n    </tr>\n    <tr>\n      <th>max</th>\n      <td>579.000000</td>\n      <td>1147.000000</td>\n    </tr>\n  </tbody>\n</table>\n</div>"
     },
     "execution_count": 120,
     "metadata": {},
     "output_type": "execute_result"
    }
   ],
   "source": [
    "os_year.describe()"
   ],
   "metadata": {
    "collapsed": false,
    "pycharm": {
     "name": "#%%\n"
    }
   }
  },
  {
   "cell_type": "markdown",
   "source": [
    "## Visualisation"
   ],
   "metadata": {
    "collapsed": false,
    "pycharm": {
     "name": "#%% md\n"
    }
   }
  },
  {
   "cell_type": "code",
   "execution_count": 121,
   "metadata": {},
   "outputs": [
    {
     "data": {
      "text/plain": "<Figure size 432x288 with 1 Axes>",
      "image/png": "[encoded data removed]"
     },
     "metadata": {
      "needs_background": "light"
     },
     "output_type": "display_data"
    }
   ],
   "source": [
    "ax: axes.Axes = os_year.plot.bar(x = \"Year\", y = [\"Linux\", \"Windows\"])\n",
    "ax.set_title(\"CVEs Submitted for Linux & Windows between 1999-2021\")\n",
    "ax.set_xlabel(\"Year\")\n",
    "ax.set_ylabel(\"# of CVEs Submitted\")\n",
    "ax.grid()"
   ]
  }
 ]
}